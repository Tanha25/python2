{
  "metadata": {
    "kernelspec": {
      "name": "python",
      "display_name": "Python (Pyodide)",
      "language": "python"
    },
    "language_info": {
      "codemirror_mode": {
        "name": "python",
        "version": 3
      },
      "file_extension": ".py",
      "mimetype": "text/x-python",
      "name": "python",
      "nbconvert_exporter": "python",
      "pygments_lexer": "ipython3",
      "version": "3.8"
    },
    "widgets": {
      "application/vnd.jupyter.widget-state+json": {
        "version_major": 2,
        "version_minor": 0,
        "state": {}
      }
    }
  },
  "nbformat_minor": 5,
  "nbformat": 4,
  "cells": [
    {
      "id": "adce9070-c058-4988-a2b1-138e976d905e",
      "cell_type": "code",
      "source": "#python\na={'a','b','c','d'}\nprint(a)",
      "metadata": {
        "trusted": true
      },
      "outputs": [
        {
          "name": "stdout",
          "output_type": "stream",
          "text": "{'b', 'c', 'a', 'd'}\n"
        }
      ],
      "execution_count": 2
    },
    {
      "id": "414df331-48b0-4916-8a12-09360c6c1e3d",
      "cell_type": "code",
      "source": "a=\"tanha\"\nb=22\nprint(f\"my name is {a} my years {b}\")",
      "metadata": {
        "trusted": true
      },
      "outputs": [
        {
          "name": "stdout",
          "output_type": "stream",
          "text": "my name is tanha my years 22\n"
        }
      ],
      "execution_count": 6
    },
    {
      "id": "c9d24412-9126-4ce6-a593-bec7be70f20d",
      "cell_type": "code",
      "source": "a=8\nb=8\nprint(f\" the add {a+b}\")\n",
      "metadata": {
        "trusted": true
      },
      "outputs": [
        {
          "name": "stdout",
          "output_type": "stream",
          "text": " the add 16\n"
        }
      ],
      "execution_count": 8
    },
    {
      "id": "b1b84844-9e82-45f0-bba1-6f95dadd6c01",
      "cell_type": "code",
      "source": "a = 18\n\nif a < 19:\n    print(\"She is an adult\")  # Proper indentation\nelif a == 18:  # This condition will never be reached\n    print(\"She is a child\")\n",
      "metadata": {
        "trusted": true
      },
      "outputs": [
        {
          "name": "stdout",
          "output_type": "stream",
          "text": "She is an adult\n"
        }
      ],
      "execution_count": 15
    },
    {
      "id": "e298e449-7f5d-48c1-824b-bcce261c9b95",
      "cell_type": "code",
      "source": "a=('a','b','c')\nprint(type(a))",
      "metadata": {
        "trusted": true
      },
      "outputs": [
        {
          "name": "stdout",
          "output_type": "stream",
          "text": "<class 'tuple'>\n"
        }
      ],
      "execution_count": 17
    },
    {
      "id": "1f2fc74b-3d6a-4ddc-8d2c-3f13cc05d375",
      "cell_type": "code",
      "source": "#conditional\nx=19\nif x>18:\n    print(\"eligibal\")\nelse :\n    print(\"not eligibal\")",
      "metadata": {
        "trusted": true
      },
      "outputs": [
        {
          "name": "stdout",
          "output_type": "stream",
          "text": "eligibal\n"
        }
      ],
      "execution_count": 2
    },
    {
      "id": "51e7b786-f487-44cb-8a9e-26ae454c4c96",
      "cell_type": "code",
      "source": "t=17\nif t<18:\n    print(\"child\")\nelif   t==17:\n    print(\"equal\")\nelse:\n    print(\"not edual\")",
      "metadata": {
        "trusted": true
      },
      "outputs": [
        {
          "name": "stdout",
          "output_type": "stream",
          "text": "child\n"
        }
      ],
      "execution_count": 3
    },
    {
      "id": "52ac55d1-bddc-4d7b-8ca7-b60bafca0614",
      "cell_type": "code",
      "source": "number = 2\n\nmatch number:\n    case 1:\n        print(\"One\")\n    case 2 | 3:\n        print(\"Two or Three\")\n    case _:\n        print(\"Other number\")\n",
      "metadata": {
        "trusted": true
      },
      "outputs": [],
      "execution_count": null
    },
    {
      "id": "f3b94680-9060-4bad-8255-60dc5d688860",
      "cell_type": "code",
      "source": "number = 5\n\nmatch number:\n    case 1:\n        print(\"one\")\n    case 2:\n        print(\"two\")\n    case 3:\n        print(\"three\")\n    case _:\n        print(\"other number\")\n",
      "metadata": {
        "trusted": true
      },
      "outputs": [
        {
          "name": "stdout",
          "output_type": "stream",
          "text": "other number\n"
        }
      ],
      "execution_count": 6
    },
    {
      "id": "326e46e1-177c-49d9-91b9-3584542da224",
      "cell_type": "code",
      "source": "cnt=0\nwhile (cnt<3):\n    cnt =cnt+1\n    print (\"hi\")",
      "metadata": {
        "trusted": true
      },
      "outputs": [
        {
          "name": "stdout",
          "output_type": "stream",
          "text": "hi\nhi\nhi\n"
        }
      ],
      "execution_count": 4
    },
    {
      "id": "8b27ddb9-e28a-4593-abff-cbd463081447",
      "cell_type": "code",
      "source": "ct=0\nwhile(ct<5):\n    ct = ct+1\n    print(\"pain\")",
      "metadata": {
        "trusted": true
      },
      "outputs": [
        {
          "name": "stdout",
          "output_type": "stream",
          "text": "pain\npain\npain\npain\npain\n"
        }
      ],
      "execution_count": 7
    },
    {
      "id": "5a898dc3-a815-456c-9d26-7a543013cd5c",
      "cell_type": "code",
      "source": "n = 0\nfor i in range (0,n):\n#print(i)\n    print(i)\n",
      "metadata": {
        "trusted": true
      },
      "outputs": [],
      "execution_count": 13
    },
    {
      "id": "845428e0-c5c5-4830-8148-ec7d39fcf331",
      "cell_type": "code",
      "source": "n = 4\nfor i in range(0, n):\n# n = 4\n#for i in range(0, n):\n    print(i)\n\n",
      "metadata": {
        "trusted": true
      },
      "outputs": [
        {
          "name": "stdout",
          "output_type": "stream",
          "text": "0\n1\n2\n3\n"
        }
      ],
      "execution_count": 14
    },
    {
      "id": "28fa3bae-8ebc-4d2f-88a3-90382dc76269",
      "cell_type": "code",
      "source": "li = [\"geeks\", \"for\", \"geeks\"]\nfor i in li:\n    print(i)\n    \ntup = (\"geeks\", \"for\", \"geeks\")\nfor i in tup:\n    print(i)\n    \ns = \"Geeks\"\nfor i in s:\n    print(i)\n    \nd = dict({'x':123, 'y':354})\nfor i in d:\n    print(\"%s  %d\" % (i, d[i]))\n    \nset1 = {1, 2, 3, 4, 5, 6}\nfor i in set1:\n    print(i),\n",
      "metadata": {
        "trusted": true
      },
      "outputs": [],
      "execution_count": null
    },
    {
      "id": "ece14d12-7243-4f69-b656-8aa847615b6f",
      "cell_type": "code",
      "source": "tup=('a','d','f','e')\nfor i in tup:\n    print(i)\nd =dict ({'x':123,'y':345})\nfor i in d:\n   # print(%s %d % (i , d[i]))\n    print(\"%s  %d\" % (i, d[i]))\nt=7\nfor i in range (0,t):\n    print(i)",
      "metadata": {
        "trusted": true
      },
      "outputs": [
        {
          "name": "stdout",
          "output_type": "stream",
          "text": "a\nd\nf\ne\nx  123\ny  345\n0\n1\n2\n3\n4\n5\n6\n"
        }
      ],
      "execution_count": 23
    },
    {
      "id": "0c6c53cd-28b2-4cf5-9774-b2f5da9d1890",
      "cell_type": "code",
      "source": "cnt = 0\nwhile ( cnt< 9):\n    cnt = cnt + 1\n    print (\"hi\")",
      "metadata": {
        "trusted": true
      },
      "outputs": [
        {
          "name": "stdout",
          "output_type": "stream",
          "text": "hi\nhi\nhi\nhi\nhi\nhi\nhi\nhi\nhi\n"
        }
      ],
      "execution_count": 5
    },
    {
      "id": "b3a935ba-c702-4662-b22f-499504280022",
      "cell_type": "code",
      "source": "fruits = [\"apple\", \"orange\", \"kiwi\"]\n\nfor fruit in fruits:\n\n    print(fruit)\n",
      "metadata": {
        "trusted": true
      },
      "outputs": [
        {
          "name": "stdout",
          "output_type": "stream",
          "text": "apple\norange\nkiwi\n"
        }
      ],
      "execution_count": 1
    },
    {
      "id": "d20b9506-6ece-4649-9371-83040f400bed",
      "cell_type": "code",
      "source": "def func():\n    \n    print(\"hello\")\n    \n    func()",
      "metadata": {
        "trusted": true
      },
      "outputs": [],
      "execution_count": 11
    },
    {
      "id": "7b3c034d-11a0-4db5-93c0-c342f8755edf",
      "cell_type": "code",
      "source": "i = 9\nwhile i<20:\n    pass\n    i+= 1\n    print(i)\n    ",
      "metadata": {
        "trusted": true
      },
      "outputs": [
        {
          "name": "stdout",
          "output_type": "stream",
          "text": "10\n11\n12\n13\n14\n15\n16\n17\n18\n19\n20\n"
        }
      ],
      "execution_count": 12
    },
    {
      "id": "ffc0db9d-0f9f-4736-aa7e-5bb5c29f7a85",
      "cell_type": "code",
      "source": "i = 0\nfor i in range (5):\n    pass\nprint (i)",
      "metadata": {
        "trusted": true
      },
      "outputs": [
        {
          "name": "stdout",
          "output_type": "stream",
          "text": "4\n"
        }
      ],
      "execution_count": 13
    },
    {
      "id": "75463939-7b62-46fa-9ef7-80aad49ca365",
      "cell_type": "code",
      "source": "i = 0\nif i < 0 :\n    print(\"positive\")\nelse:\n    print (\"negative\")",
      "metadata": {
        "trusted": true
      },
      "outputs": [
        {
          "name": "stdout",
          "output_type": "stream",
          "text": "negative\n"
        }
      ],
      "execution_count": 18
    },
    {
      "id": "f4880dfa-8f61-4caa-ab3e-896cd9b6efee",
      "cell_type": "code",
      "source": "def add (a, b) :\n    return a + b\nres = add(2,3)\nprint(res)\n    \n    ",
      "metadata": {
        "trusted": true
      },
      "outputs": [
        {
          "name": "stdout",
          "output_type": "stream",
          "text": "5\n"
        }
      ],
      "execution_count": 9
    },
    {
      "id": "35f8b958-2b7d-46ef-be00-5f6360810b67",
      "cell_type": "code",
      "source": "def fun():\n    name = \"Alice\"\n    age = 30\n    return name, age\n\nname, age = fun()\nprint(name)  \nprint(age)   # Output: 30\n",
      "metadata": {
        "trusted": true
      },
      "outputs": [
        {
          "name": "stdout",
          "output_type": "stream",
          "text": "Alice\n30\n"
        }
      ],
      "execution_count": 13
    },
    {
      "id": "a7bf615f-d447-4341-9cba-6204a44d736d",
      "cell_type": "code",
      "source": "def fun(n):\n    return [n**2, n**3]\n\nres = fun(3)\nprint(res)  \n",
      "metadata": {
        "trusted": true
      },
      "outputs": [
        {
          "name": "stdout",
          "output_type": "stream",
          "text": "[9, 27]\n"
        }
      ],
      "execution_count": 16
    },
    {
      "id": "ecd20719-8d7a-431f-89dc-7c4fa4812bf0",
      "cell_type": "code",
      "source": "def fun(n):\n    return [n ** 2 ,n ** 3]\n      \nres = fun(3)\nprint(res)\n    ",
      "metadata": {
        "trusted": true
      },
      "outputs": [
        {
          "name": "stdout",
          "output_type": "stream",
          "text": "[9, 27]\n"
        }
      ],
      "execution_count": 24
    },
    {
      "id": "25ddf151-8856-4503-8302-986e5a2a62d6",
      "cell_type": "code",
      "source": "def fun1(msg):\n    def fun2():\n        # Using the outer function's message\n        return f\"Message: {msg}\"\n    return fun2\n\n# Getting the inner function\nfun3 = fun1(\"Hello, World!\")\n\n# Calling the inner function\nprint(fun3())  \n",
      "metadata": {
        "trusted": true
      },
      "outputs": [
        {
          "name": "stdout",
          "output_type": "stream",
          "text": "Message: Hello, World!\n"
        }
      ],
      "execution_count": 7
    },
    {
      "id": "cd743a52-d2f0-4d70-acfb-591bde335490",
      "cell_type": "code",
      "source": "def f():\n    global s\n    s += 'kj'  # Append to the global string\n    print(s)  \n    s = \"loh\"  # Change the value of s\n    print(s)\n    return  # Avoid infinite recursion\n\ns = \"start\"  # Initialize the global variable\nf()\nprint(s)\n",
      "metadata": {
        "trusted": true
      },
      "outputs": [
        {
          "name": "stdout",
          "output_type": "stream",
          "text": "startkj\nloh\nloh\n"
        }
      ],
      "execution_count": 14
    },
    {
      "id": "7b7dcc65-57a9-4139-ac0a-c308e12ce027",
      "cell_type": "code",
      "source": "def fibonacci(n):\n    # Base cases\n    if n == 0:\n        return 0\n    elif n == 1:\n        return 1\n    # Recursive case\n    else:\n        return fibonacci(n-1) + fibonacci(n-2)\n\n# Example usage\nprint(fibonacci(10))  \n",
      "metadata": {
        "trusted": true
      },
      "outputs": [
        {
          "name": "stdout",
          "output_type": "stream",
          "text": "55\n"
        }
      ],
      "execution_count": 33
    },
    {
      "id": "1a26f44b-0f1c-433b-ad50-692820f8d59c",
      "cell_type": "code",
      "source": "def fibonacci (n):\n    if n==0:\n        return 0\n    elif n==1:\n        return 1\n    else :\n        return fibonacci(n-1) + fibonacci (n-2)\n        \n        print ( fibonacci (5))",
      "metadata": {
        "trusted": true
      },
      "outputs": [],
      "execution_count": 47
    },
    {
      "id": "cdeeac96-95e5-4262-877d-8292653d357e",
      "cell_type": "code",
      "source": "n=4\nif 0<n:\n    print(\"right\")\nelse :\n    print (\"wrong\")",
      "metadata": {
        "trusted": true
      },
      "outputs": [
        {
          "name": "stdout",
          "output_type": "stream",
          "text": "right\n"
        }
      ],
      "execution_count": 46
    },
    {
      "id": "04b5fcb6-bd5f-454c-9062-174c64a96f2e",
      "cell_type": "code",
      "source": "s=\"tanha\"\nprint(\"ta\" in s)\nprint (\"on\" in s)",
      "metadata": {
        "trusted": true
      },
      "outputs": [
        {
          "name": "stdout",
          "output_type": "stream",
          "text": "True\nFalse\n"
        }
      ],
      "execution_count": 1
    },
    {
      "id": "cf0446e5-85b7-4e65-9f4b-9e5009c61ea3",
      "cell_type": "code",
      "source": "\"my name {} i am {} old \".format(\"tanha\",22)",
      "metadata": {
        "trusted": true
      },
      "outputs": [
        {
          "execution_count": 2,
          "output_type": "execute_result",
          "data": {
            "text/plain": "'my name tanha i am 22 old '"
          },
          "metadata": {}
        }
      ],
      "execution_count": 2
    },
    {
      "id": "d3e7f4d9-aa9e-4522-91e0-a1145e99037a",
      "cell_type": "code",
      "source": "s = \" tanha\"\nprint ( s* 3)",
      "metadata": {
        "trusted": true
      },
      "outputs": [
        {
          "name": "stdout",
          "output_type": "stream",
          "text": " tanha tanha tanha\n"
        }
      ],
      "execution_count": 4
    },
    {
      "id": "5214eafc-2f37-4898-b0fd-00aea30be271",
      "cell_type": "code",
      "source": "s = \"tanha afroz\"\nprint( len (s))",
      "metadata": {
        "trusted": true
      },
      "outputs": [
        {
          "name": "stdout",
          "output_type": "stream",
          "text": "11\n"
        }
      ],
      "execution_count": 1
    },
    {
      "id": "cdb7f623-f5b5-469a-a214-69e89d1b00b4",
      "cell_type": "code",
      "source": "s = \" tanha afroz tisha \"\nprint (s.upper())\nprint (s.lower())",
      "metadata": {
        "trusted": true
      },
      "outputs": [
        {
          "name": "stdout",
          "output_type": "stream",
          "text": " TANHA AFROZ TISHA \n tanha afroz tisha \n"
        }
      ],
      "execution_count": 3
    },
    {
      "id": "13e01d7c-b8f0-44b1-b3e0-75eb23fb5a17",
      "cell_type": "code",
      "source": "s = [2]*4\nt = [4]*2\nprint (s)\nprint (t)",
      "metadata": {
        "trusted": true
      },
      "outputs": [
        {
          "name": "stdout",
          "output_type": "stream",
          "text": "[2, 2, 2, 2]\n[4, 4]\n"
        }
      ],
      "execution_count": 4
    },
    {
      "id": "59de8249-e5da-4442-91dd-fd7a14637cd2",
      "cell_type": "code",
      "source": "a =[ 3,4,5,6]\na.append(10)\nprint (a)\na.insert (2,9)\nprint (a)\na.extend ([8])\nprint (a)",
      "metadata": {
        "trusted": true
      },
      "outputs": [
        {
          "name": "stdout",
          "output_type": "stream",
          "text": "[3, 4, 5, 6, 10]\n[3, 4, 9, 5, 6, 10]\n[3, 4, 9, 5, 6, 10, 8]\n"
        }
      ],
      "execution_count": 6
    },
    {
      "id": "7eab92e1-2444-4e92-b937-20b2c3514f13",
      "cell_type": "code",
      "source": "a=[1,2,3,4,5,6,7,8,9,10]\nfor item in a :\n    print (a)",
      "metadata": {
        "trusted": true
      },
      "outputs": [
        {
          "name": "stdout",
          "output_type": "stream",
          "text": "[1, 2, 3, 4, 5, 6, 7, 8, 9, 10]\n[1, 2, 3, 4, 5, 6, 7, 8, 9, 10]\n[1, 2, 3, 4, 5, 6, 7, 8, 9, 10]\n[1, 2, 3, 4, 5, 6, 7, 8, 9, 10]\n[1, 2, 3, 4, 5, 6, 7, 8, 9, 10]\n[1, 2, 3, 4, 5, 6, 7, 8, 9, 10]\n[1, 2, 3, 4, 5, 6, 7, 8, 9, 10]\n[1, 2, 3, 4, 5, 6, 7, 8, 9, 10]\n[1, 2, 3, 4, 5, 6, 7, 8, 9, 10]\n[1, 2, 3, 4, 5, 6, 7, 8, 9, 10]\n"
        }
      ],
      "execution_count": 12
    },
    {
      "id": "d22d5ef6-993e-46fc-bb9e-718b616d7141",
      "cell_type": "code",
      "source": "tup = ( 1,2,3,4,5,6)\nprint (tup)\ntup1 = (2,4,6)\ntup2 = (\"tanha\", \"afroz\")\ntup3 = (tup1,tup2)\nprint (tup3)\ntup =('tanha') *3\nprint (tup)",
      "metadata": {
        "trusted": true
      },
      "outputs": [
        {
          "name": "stdout",
          "output_type": "stream",
          "text": "(1, 2, 3, 4, 5, 6)\n((2, 4, 6), ('tanha', 'afroz'))\ntanhatanhatanha\n"
        }
      ],
      "execution_count": 15
    },
    {
      "id": "4ff6445d-6944-4cce-ba43-14f34e99019f",
      "cell_type": "code",
      "source": "s = { 1,2,3,4,5,6}\ns.add(10)\nprint (s)\ns.update ([7])\nprint(s)",
      "metadata": {
        "trusted": true
      },
      "outputs": [
        {
          "name": "stdout",
          "output_type": "stream",
          "text": "{1, 2, 3, 4, 5, 6, 10}\n{1, 2, 3, 4, 5, 6, 7, 10}\n"
        }
      ],
      "execution_count": 3
    },
    {
      "id": "c82c80a3-2aee-48f0-957d-f0fecb4fae81",
      "cell_type": "code",
      "source": "s1 = set ()\nprint(s1)\ns1 = set(\"tanhaafroztisha\")\nprint (s1)\ns1=set([\"tata\",\"baba\",\"kaka\"])\nprint (set)\ntup = (\"kaka\",\"computer\")\nprint (set(tup))\n",
      "metadata": {
        "trusted": true
      },
      "outputs": [
        {
          "name": "stdout",
          "output_type": "stream",
          "text": "set()\n{'t', 's', 'r', 'z', 'f', 'a', 'o', 'n', 'i', 'h'}\n<class 'set'>\n{'kaka', 'computer'}\n"
        }
      ],
      "execution_count": 6
    },
    {
      "id": "12d9a774-c59f-4dd1-b502-0959040ea05a",
      "cell_type": "code",
      "source": "s1 = set ()\ns1={1,2,3,4,5,6,7,8,9,10}\nprint(s1)\ns1=('k','l','g','t')\nprint(s1)",
      "metadata": {
        "trusted": true
      },
      "outputs": [
        {
          "name": "stdout",
          "output_type": "stream",
          "text": "{1, 2, 3, 4, 5, 6, 7, 8, 9, 10}\n('k', 'l', 'g', 't')\n"
        }
      ],
      "execution_count": 8
    },
    {
      "id": "9a8b5321-eb5a-4da1-a88e-4e956260ef67",
      "cell_type": "code",
      "source": "set1 = frozenset ()\nset1 = frozenset(\"tanha afroz tiaha\")\nprint(set1)",
      "metadata": {
        "trusted": true
      },
      "outputs": [
        {
          "name": "stdout",
          "output_type": "stream",
          "text": "frozenset({'t', 'r', 'z', 'f', 'a', ' ', 'o', 'n', 'i', 'h'})\n"
        }
      ],
      "execution_count": 9
    },
    {
      "id": "17c8bd69-1944-45ee-aedd-885f9642e2b3",
      "cell_type": "code",
      "source": "s={1,2,3,4,5,6,7,8,9,10,11,12,13}\ns.clear()\nprint(s)",
      "metadata": {
        "trusted": true
      },
      "outputs": [
        {
          "name": "stdout",
          "output_type": "stream",
          "text": "set()\n"
        }
      ],
      "execution_count": 13
    },
    {
      "id": "398575df-eb1b-42c0-a1d3-7dd34a0b2421",
      "cell_type": "code",
      "source": "s ={1,2,3,4,5,6,7,10}\nprint (11 in s)",
      "metadata": {
        "trusted": true
      },
      "outputs": [
        {
          "name": "stdout",
          "output_type": "stream",
          "text": "False\n"
        }
      ],
      "execution_count": 18
    },
    {
      "id": "af22ade2-3d22-41bb-b4ad-575d6f273d5d",
      "cell_type": "code",
      "source": "a = [1, \"Hello\", [3.14, \"world\"]]\na.append(2)  # Add an integer to the end\nprint(a)  \n",
      "metadata": {
        "trusted": true
      },
      "outputs": [],
      "execution_count": null
    },
    {
      "id": "8e5ce0f5-47c5-4cef-accd-0b74a0d8ec41",
      "cell_type": "code",
      "source": "a = [1,\"hello\",[3.1416,\"world\"]]\na.append(2)\nprint(a)",
      "metadata": {
        "trusted": true
      },
      "outputs": [
        {
          "name": "stdout",
          "output_type": "stream",
          "text": "[1, 'hello', [3.1416, 'world'], 2]\n"
        }
      ],
      "execution_count": 1
    },
    {
      "id": "cf869e7c-afda-4749-903f-edd4f92ccf89",
      "cell_type": "code",
      "source": "a =[5,\"tanha\"]\na.append(\"maisha\")\nprint(a)",
      "metadata": {
        "trusted": true
      },
      "outputs": [
        {
          "name": "stdout",
          "output_type": "stream",
          "text": "[5, 'tanha', 'maisha']\n"
        }
      ],
      "execution_count": 3
    },
    {
      "id": "6228a6c9-99a9-41ef-ab68-3ff02a266d06",
      "cell_type": "code",
      "source": "import numpy as np\narr = np.array ([1,2,3])\nprint (arr*2)\narr2 = np.array([[1,3],[4,5]])\nprint(arr2*2)",
      "metadata": {
        "trusted": true
      },
      "outputs": [
        {
          "name": "stdout",
          "output_type": "stream",
          "text": "[2 4 6]\n[[ 2  6]\n [ 8 10]]\n"
        }
      ],
      "execution_count": 7
    },
    {
      "id": "6a5cf0cc-c3af-4012-806f-766efc71de0e",
      "cell_type": "code",
      "source": "import array as arr\n\n# creating array of integers\na = arr.array('i', [1, 2, 3])\n\n# accessing First Araay\nprint(a[0])\n\n# Adding element to array\na.append(5)\nprint(a)  \n",
      "metadata": {
        "trusted": true
      },
      "outputs": [],
      "execution_count": null
    },
    {
      "id": "75343657-6598-4de0-96fa-4460a496eb5d",
      "cell_type": "code",
      "source": "import array as arr \na = arr.array (\"i\",[1,2,3])\nprint (a[0])\na.append (5)\nprint(a)",
      "metadata": {
        "trusted": true
      },
      "outputs": [
        {
          "name": "stdout",
          "output_type": "stream",
          "text": "1\narray('i', [1, 2, 3, 5])\n"
        }
      ],
      "execution_count": 13
    },
    {
      "id": "0a357164-b8c6-431f-8543-c75eb41e2777",
      "cell_type": "code",
      "source": "import array as arr\na = arr.array(\"f\",[1,2,3])\nfor  f in range (0 ,3):\n    print (a[f],end=\" \")",
      "metadata": {
        "trusted": true
      },
      "outputs": [
        {
          "name": "stdout",
          "output_type": "stream",
          "text": "1.0 2.0 3.0 "
        }
      ],
      "execution_count": 15
    },
    {
      "id": "634b4b45-ae2c-42a0-a9b3-5dc169322bb3",
      "cell_type": "code",
      "source": "import array as arr\na =arr.array(\"i\" ,[1,2,3,4,5])\nprint (a[0])\nprint(a[4])\nd = arr.array (\"d\",[1,2,3])\nprint (d[1])",
      "metadata": {
        "trusted": true
      },
      "outputs": [
        {
          "name": "stdout",
          "output_type": "stream",
          "text": "1\n5\n2.0\n"
        }
      ],
      "execution_count": 17
    },
    {
      "id": "6b1047a9-b258-467f-ab86-9b4a3095c0f0",
      "cell_type": "code",
      "source": "import array as arr\na =arr.array ( \"f\",[1,2,3,4,5,7])\nprint([2])",
      "metadata": {
        "trusted": true
      },
      "outputs": [
        {
          "name": "stdout",
          "output_type": "stream",
          "text": "[2]\n"
        }
      ],
      "execution_count": 19
    },
    {
      "id": "1765f559-b4e2-4576-8a1b-b7ca458064f4",
      "cell_type": "code",
      "source": "import array\narr = array.array('i', [1, 2, 3, 1, 2, 5])\n\n# index of 1st occurrence of 2\nprint(arr.index(2))\n\n# index of 1st occurrence of 1\nprint(arr.index(1))\n",
      "metadata": {
        "trusted": true
      },
      "outputs": [],
      "execution_count": null
    },
    {
      "id": "2f9fdb75-92e7-496d-911d-91d5a16f43f2",
      "cell_type": "code",
      "source": "import array as arr\na = arr.array(\"i\",[1,2,3])\nprint (a.index (2))\nb = arr.array (\"f\",[1,2,3])\nprint(b.remove(1))",
      "metadata": {
        "trusted": true
      },
      "outputs": [
        {
          "name": "stdout",
          "output_type": "stream",
          "text": "1\nNone\n"
        }
      ],
      "execution_count": 30
    },
    {
      "id": "341f24c8-bb5a-4251-a104-907e1291e1b9",
      "cell_type": "code",
      "source": "a = [ (x,y) for x  in range (4) for y in range (5)]\nprint (a)",
      "metadata": {
        "trusted": true
      },
      "outputs": [
        {
          "name": "stdout",
          "output_type": "stream",
          "text": "[(0, 0), (0, 1), (0, 2), (0, 3), (0, 4), (1, 0), (1, 1), (1, 2), (1, 3), (1, 4), (2, 0), (2, 1), (2, 2), (2, 3), (2, 4), (3, 0), (3, 1), (3, 2), (3, 3), (3, 4)]\n"
        }
      ],
      "execution_count": 33
    },
    {
      "id": "2dd657b9-951d-41d3-9516-dbb263ba3507",
      "cell_type": "code",
      "source": "from collections import Counter\n\n# Creating a Counter from a list\nctr1 = Counter([1, 2, 2, 3, 3, 3])\n\n# Creating a Counter from a dictionary\nctr2 = Counter({1: 2, 2: 3, 3: 1})\n\n# Creating a Counter from a string\nctr3 = Counter('hello')\n\nprint(ctr1)\nprint(ctr2)\nprint(ctr3)\n",
      "metadata": {
        "trusted": true
      },
      "outputs": [
        {
          "name": "stdout",
          "output_type": "stream",
          "text": "Counter({3: 3, 2: 2, 1: 1})\nCounter({2: 3, 1: 2, 3: 1})\nCounter({'l': 2, 'h': 1, 'e': 1, 'o': 1})\n"
        }
      ],
      "execution_count": 34
    },
    {
      "id": "012aa228-4f7a-4c91-8ae0-7d631611b035",
      "cell_type": "code",
      "source": "import heapq\nh = [10,20,30]\nheapq.heapify(h)\n\nheapq.heappush(h,5)\nmin = heapq.heappop(h)\nprint (h)",
      "metadata": {
        "trusted": true
      },
      "outputs": [
        {
          "name": "stdout",
          "output_type": "stream",
          "text": "[10, 20, 30]\n"
        }
      ],
      "execution_count": 3
    },
    {
      "id": "25206950-7ae3-4cf9-a125-fc8f7e14b955",
      "cell_type": "code",
      "source": "import heapq\nh = [10,20,30,40]\nheapq.heapify(h)\nmaxi = heapq.nlargest(3,h)\nprint(\"3 largest elements :\" , maxi)\nheapq.nsmallest(3,h)\nprint (\"3 smallest elemnts:\", min)",
      "metadata": {
        "trusted": true
      },
      "outputs": [
        {
          "name": "stdout",
          "output_type": "stream",
          "text": "3 largest elements : [40, 30, 20]\n3 smallest elemnts: 5\n"
        }
      ],
      "execution_count": 5
    },
    {
      "id": "039fdcf3-f73c-45f0-a893-7bf9a4f4ee0b",
      "cell_type": "code",
      "source": "import heapq\n\n# Creating a heap\nh1 = [10, 20, 15, 30, 40]\nheapq.heapify(h1)\n\n# Replacing the smallest element (10) with 5\nmin = heapq.heapreplace(h1, 5)\n\nprint(min)\nprint(h1)\n\n# Merging Heaps\nh2 = [2, 4, 6, 8]\n\n# Merging the lists\nh3 = list(heapq.merge(h1, h2))\nprint(\"Merged heap:\", h3)\n",
      "metadata": {
        "trusted": true
      },
      "outputs": [
        {
          "name": "stdout",
          "output_type": "stream",
          "text": "10\n[5, 20, 15, 30, 40]\nMerged heap: [2, 4, 5, 6, 8, 20, 15, 30, 40]\n"
        }
      ],
      "execution_count": 6
    },
    {
      "id": "0a608f02-0686-4add-9398-c687ad6b34e7",
      "cell_type": "code",
      "source": "from collections import deque\n\ndq = deque([10, 20, 30])\n\n# Add elements to the right\ndq.append(40)  \n\n# Add elements to the left\ndq.appendleft(5)  \n\n# extend(iterable)\ndq.extend([50, 60, 70]) \n#print(\"After extend([50, 60, 70]):\", dq)\nprint(dp)\n# extendleft(iterable)\ndq.extendleft([0, 5])  \nprint(\"After extendleft([0, 5]):\", dq)\n\n# remove method\ndq.remove(20)\nprint(\"After remove(20):\", dq)\n\n# Remove elements from the right\ndq.pop()\n\n# Remove elements from the left\ndq.popleft()  \n\nprint(\"After pop and popleft:\", dq)\n\n# clear() - Removes all elements from the deque\ndq.clear()  # deque: []\nprint(\"After clear():\", dq)\n",
      "metadata": {
        "trusted": true
      },
      "outputs": [
        {
          "name": "stdout",
          "output_type": "stream",
          "text": "deque([20, 10, 40, 30])\nAfter extendleft([0, 5]): deque([5, 0, 5, 10, 20, 30, 40, 50, 60, 70])\nAfter remove(20): deque([5, 0, 5, 10, 30, 40, 50, 60, 70])\nAfter pop and popleft: deque([0, 5, 10, 30, 40, 50, 60])\nAfter clear(): deque([])\n"
        }
      ],
      "execution_count": 24
    },
    {
      "id": "7a93cd4b-7ba1-47c2-9e29-9bad94511b9c",
      "cell_type": "code",
      "source": "from collections import deque \ndp = deque([10,20,30,40])\nprint (dp.count (20))\nprint (dp.count (30))\ndp.rotate (3)\nprint (dp)\ndp.rotate (-1)\nprint(dp)\ndp.reverse()\nprint(dp)",
      "metadata": {
        "trusted": true
      },
      "outputs": [
        {
          "name": "stdout",
          "output_type": "stream",
          "text": "1\n1\ndeque([20, 30, 40, 10])\ndeque([30, 40, 10, 20])\ndeque([20, 10, 40, 30])\n"
        }
      ],
      "execution_count": 23
    },
    {
      "id": "60bcf751-17a2-4bf5-86a7-952f16fc1d50",
      "cell_type": "code",
      "source": "# A Python program to demonstrate working of key\n# value change in OrderedDict\nfrom collections import OrderedDict\n\nprint(\"Before:\\n\")\nod = OrderedDict()\nod['a'] = 1\nod['b'] = 2\nod['c'] = 3\nod['d'] = 4\nfor key, value in od.items():\n    print(key, value)\n\nprint(\"\\nAfter:\\n\")\nod['c'] = 5\nfor key, value in od.items():\n    print(key, value)\n",
      "metadata": {
        "trusted": true
      },
      "outputs": [],
      "execution_count": null
    },
    {
      "id": "6a148f5c-9eb9-40c8-8d9b-72bcf11bb6d9",
      "cell_type": "code",
      "source": "# A Python program to demonstrate working of key\n# value change in OrderedDict\nfrom collections import OrderedDict\n\nprint(\"Before:\\n\")\nod = OrderedDict()\nod['a'] = 1\nod['b'] = 2\nod['c'] = 3\nod['d'] = 4\nfor key, value in od.items():\n    print(key, value)\n\nprint(\"\\nAfter:\\n\")\nod['c'] = 5\nfor key, value in od.items():\n    print(key, value)\n",
      "metadata": {
        "trusted": true
      },
      "outputs": [
        {
          "name": "stdout",
          "output_type": "stream",
          "text": "Before:\n\na 1\nb 2\nc 3\nd 4\n\nAfter:\n\na 1\nb 2\nc 5\nd 4\n"
        }
      ],
      "execution_count": 1
    },
    {
      "id": "e839742e-102c-44ad-8c0e-b4cc97c13b87",
      "cell_type": "code",
      "source": "from collections import OrderedDict\n\n# Create two ordered dictionaries with different orderings\nod1 = OrderedDict([('a', 1), ('b', 2), ('c', 3)])\nod2 = OrderedDict([('c', 3), ('b', 2), ('a', 1)])\n\n# Compare the ordered dictionaries for equality\nprint(od1 == od2)  \n",
      "metadata": {
        "trusted": true
      },
      "outputs": [
        {
          "name": "stdout",
          "output_type": "stream",
          "text": "False\n"
        }
      ],
      "execution_count": 4
    },
    {
      "id": "4ffa6e8c-8725-41d7-8239-4e15032a3778",
      "cell_type": "code",
      "source": "",
      "metadata": {
        "trusted": true
      },
      "outputs": [],
      "execution_count": null
    }
  ]
}